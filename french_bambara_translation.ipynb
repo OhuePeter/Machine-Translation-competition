{
  "nbformat": 4,
  "nbformat_minor": 0,
  "metadata": {
    "colab": {
      "provenance": []
    },
    "kernelspec": {
      "name": "python3",
      "display_name": "Python 3"
    },
    "language_info": {
      "name": "python"
    }
  },
  "cells": [
    {
      "cell_type": "code",
      "execution_count": null,
      "metadata": {
        "id": "FTJ5qcfxQstt",
        "colab": {
          "base_uri": "https://localhost:8080/"
        },
        "outputId": "3f6ff9f4-5125-4178-9dc9-191599a773ba"
      },
      "outputs": [
        {
          "output_type": "stream",
          "name": "stdout",
          "text": [
            "Mounted at /content/drive\n"
          ]
        }
      ],
      "source": [
        "from google.colab import drive\n",
        "drive.mount('/content/drive')\n",
        "\n",
        "\n",
        "\n"
      ]
    },
    {
      "cell_type": "code",
      "source": [
        "import pathlib\n",
        "import random\n",
        "import string\n",
        "import re\n",
        "import numpy as np\n",
        "import tensorflow as tf\n",
        "from tensorflow import keras\n",
        "from tensorflow.keras import layers\n",
        "from tensorflow.keras.layers import TextVectorization"
      ],
      "metadata": {
        "id": "UFUSroqQUmQs"
      },
      "execution_count": null,
      "outputs": []
    },
    {
      "cell_type": "code",
      "source": [
        "# Download the file\n",
        "path_abm = 'drive/MyDrive/Bambara_translation/MT Data/bm_fr/train.bam.txt'\n",
        "path_fr = 'drive/MyDrive/Bambara_translation/MT Data/bm_fr/train.fr.txt'"
      ],
      "metadata": {
        "id": "eNKk4ILY6bSF"
      },
      "execution_count": null,
      "outputs": []
    },
    {
      "cell_type": "code",
      "source": [],
      "metadata": {
        "id": "cpGLNbH9372K"
      },
      "execution_count": null,
      "outputs": []
    },
    {
      "cell_type": "code",
      "source": [
        "text_pairs=[]\n",
        "\n",
        "with open(path_abm) as fp:\n",
        "    data_bm = fp.readlines()\n",
        "\n",
        "with open(path_fr) as fp:\n",
        "    data_fr = fp.readlines()\n",
        "\n",
        "for line1, line2 in zip(data_bm, data_fr):\n",
        "  b=line1.split('\\n')[0] \n",
        "  f= '[start]' + line2.split('\\n')[0]+'[end]'\n",
        "  text_pairs.append((b,f))\n",
        "  \n",
        "\n"
      ],
      "metadata": {
        "id": "A-78W4Ep6bUs",
        "colab": {
          "base_uri": "https://localhost:8080/",
          "height": 235
        },
        "outputId": "9b79488e-bf5e-4383-8a66-e06cb1bf5e1f"
      },
      "execution_count": null,
      "outputs": [
        {
          "output_type": "error",
          "ename": "FileNotFoundError",
          "evalue": "ignored",
          "traceback": [
            "\u001b[0;31m---------------------------------------------------------------------------\u001b[0m",
            "\u001b[0;31mFileNotFoundError\u001b[0m                         Traceback (most recent call last)",
            "\u001b[0;32m<ipython-input-4-08197087f1b2>\u001b[0m in \u001b[0;36m<module>\u001b[0;34m\u001b[0m\n\u001b[1;32m      1\u001b[0m \u001b[0mtext_pairs\u001b[0m\u001b[0;34m=\u001b[0m\u001b[0;34m[\u001b[0m\u001b[0;34m]\u001b[0m\u001b[0;34m\u001b[0m\u001b[0;34m\u001b[0m\u001b[0m\n\u001b[1;32m      2\u001b[0m \u001b[0;34m\u001b[0m\u001b[0m\n\u001b[0;32m----> 3\u001b[0;31m \u001b[0;32mwith\u001b[0m \u001b[0mopen\u001b[0m\u001b[0;34m(\u001b[0m\u001b[0mpath_abm\u001b[0m\u001b[0;34m)\u001b[0m \u001b[0;32mas\u001b[0m \u001b[0mfp\u001b[0m\u001b[0;34m:\u001b[0m\u001b[0;34m\u001b[0m\u001b[0;34m\u001b[0m\u001b[0m\n\u001b[0m\u001b[1;32m      4\u001b[0m     \u001b[0mdata_bm\u001b[0m \u001b[0;34m=\u001b[0m \u001b[0mfp\u001b[0m\u001b[0;34m.\u001b[0m\u001b[0mreadlines\u001b[0m\u001b[0;34m(\u001b[0m\u001b[0;34m)\u001b[0m\u001b[0;34m\u001b[0m\u001b[0;34m\u001b[0m\u001b[0m\n\u001b[1;32m      5\u001b[0m \u001b[0;34m\u001b[0m\u001b[0m\n",
            "\u001b[0;31mFileNotFoundError\u001b[0m: [Errno 2] No such file or directory: 'drive/MyDrive/Bambara_translation/MT Data/bm_fr/train.bam.txt'"
          ]
        }
      ]
    },
    {
      "cell_type": "code",
      "source": [
        "import random\n",
        "\n",
        "for _ in range(5):\n",
        "    print(random.choice(text_pairs))"
      ],
      "metadata": {
        "colab": {
          "base_uri": "https://localhost:8080/"
        },
        "id": "OgypTvVhQiPS",
        "outputId": "f3f4ab78-1cbf-41b0-ab15-0d25ff70cd9f"
      },
      "execution_count": null,
      "outputs": [
        {
          "output_type": "stream",
          "name": "stdout",
          "text": [
            "('An ka Ala deli !', '[start]Prions ![end]')\n",
            "('gundo mara', '[start]garder secret[end]')\n",
            "('I hakili jigin a la ko...', '[start]Souvenez-vous que...[end]')\n",
            "('Gafe in ɲɛsinnen don jɔn ma ?', '[start]Ce livre a été écrit pour qui ?[end]')\n",
            "('A ye muso maminɛ.', '[start]Il a fiancé une femme.[end]')\n"
          ]
        }
      ]
    },
    {
      "cell_type": "code",
      "source": [
        "random.shuffle(text_pairs)\n",
        "num_val_samples = int(0.15 * len(text_pairs))\n",
        "num_train_samples = len(text_pairs) - 2 * num_val_samples\n",
        "train_pairs = text_pairs[:num_train_samples]\n",
        "val_pairs = text_pairs[num_train_samples : num_train_samples + num_val_samples]\n",
        "test_pairs = text_pairs[num_train_samples + num_val_samples :]\n",
        "\n",
        "print(f\"{len(text_pairs)} total pairs\")\n",
        "print(f\"{len(train_pairs)} training pairs\")\n",
        "print(f\"{len(val_pairs)} validation pairs\")\n",
        "print(f\"{len(test_pairs)} test pairs\")"
      ],
      "metadata": {
        "id": "sh5j5Y64SF1b",
        "colab": {
          "base_uri": "https://localhost:8080/"
        },
        "outputId": "4a82c5ae-6ad0-4257-e4e6-a7a35645f12c"
      },
      "execution_count": null,
      "outputs": [
        {
          "output_type": "stream",
          "name": "stdout",
          "text": [
            "1558 total pairs\n",
            "1092 training pairs\n",
            "233 validation pairs\n",
            "233 test pairs\n"
          ]
        }
      ]
    },
    {
      "cell_type": "code",
      "source": [
        "strip_chars = string.punctuation + \"¿\"\n",
        "strip_chars = strip_chars.replace(\"[\", \"\")\n",
        "strip_chars = strip_chars.replace(\"]\", \"\")\n",
        "\n",
        "vocab_size = 15000\n",
        "sequence_length = 20\n",
        "batch_size = 64\n",
        "\n",
        "\n",
        "def custom_standardization(input_string):\n",
        "    lowercase = tf.strings.lower(input_string)\n",
        "    return tf.strings.regex_replace(lowercase, \"[%s]\" % re.escape(strip_chars), \"\")\n",
        "\n",
        "\n",
        "eng_vectorization = TextVectorization(\n",
        "    max_tokens=vocab_size, output_mode=\"int\", output_sequence_length=sequence_length,\n",
        ")\n",
        "spa_vectorization = TextVectorization(\n",
        "    max_tokens=vocab_size,\n",
        "    output_mode=\"int\",\n",
        "    output_sequence_length=sequence_length + 1,\n",
        "    standardize=custom_standardization,\n",
        ")\n",
        "train_eng_texts = [pair[0] for pair in train_pairs]\n",
        "train_spa_texts = [pair[1] for pair in train_pairs]\n",
        "eng_vectorization.adapt(train_eng_texts)\n",
        "spa_vectorization.adapt(train_spa_texts)"
      ],
      "metadata": {
        "id": "UQ62wEcVSOi0"
      },
      "execution_count": null,
      "outputs": []
    },
    {
      "cell_type": "code",
      "source": [],
      "metadata": {
        "id": "g74--udDTytB"
      },
      "execution_count": null,
      "outputs": []
    },
    {
      "cell_type": "code",
      "source": [
        "def format_dataset(eng, spa):\n",
        "    eng = eng_vectorization(eng)\n",
        "    spa = spa_vectorization(spa)\n",
        "    return ({\"encoder_inputs\": eng, \"decoder_inputs\": spa[:, :-1],}, spa[:, 1:])\n",
        "\n",
        "\n",
        "def make_dataset(pairs):\n",
        "    eng_texts, spa_texts = zip(*pairs)\n",
        "    eng_texts = list(eng_texts)\n",
        "    spa_texts = list(spa_texts)\n",
        "    dataset = tf.data.Dataset.from_tensor_slices((eng_texts, spa_texts))\n",
        "    dataset = dataset.batch(batch_size)\n",
        "    dataset = dataset.map(format_dataset)\n",
        "    return dataset.shuffle(2048).prefetch(16).cache()\n",
        "\n",
        "\n",
        "train_ds = make_dataset(train_pairs)\n",
        "val_ds = make_dataset(val_pairs)"
      ],
      "metadata": {
        "id": "bS6XcffSTyvt"
      },
      "execution_count": null,
      "outputs": []
    },
    {
      "cell_type": "code",
      "source": [
        "for inputs, targets in train_ds.take(1):\n",
        "    print(f'inputs[\"encoder_inputs\"].shape: {inputs[\"encoder_inputs\"].shape}')\n",
        "    print(f'inputs[\"decoder_inputs\"].shape: {inputs[\"decoder_inputs\"].shape}')\n",
        "    print(f\"targets.shape: {targets.shape}\")"
      ],
      "metadata": {
        "colab": {
          "base_uri": "https://localhost:8080/"
        },
        "id": "S5nHdihLTyyD",
        "outputId": "710f5c6d-dbb9-4683-ef28-b1d79dfba3f3"
      },
      "execution_count": null,
      "outputs": [
        {
          "output_type": "stream",
          "name": "stdout",
          "text": [
            "inputs[\"encoder_inputs\"].shape: (64, 20)\n",
            "inputs[\"decoder_inputs\"].shape: (64, 20)\n",
            "targets.shape: (64, 20)\n"
          ]
        }
      ]
    },
    {
      "cell_type": "code",
      "source": [
        "class TransformerEncoder(layers.Layer):\n",
        "    def __init__(self, embed_dim, dense_dim, num_heads, **kwargs):\n",
        "        super().__init__(**kwargs)\n",
        "        self.embed_dim = embed_dim\n",
        "        self.dense_dim = dense_dim\n",
        "        self.num_heads = num_heads\n",
        "        self.attention = layers.MultiHeadAttention(\n",
        "            num_heads=num_heads, key_dim=embed_dim\n",
        "        )\n",
        "        self.dense_proj = keras.Sequential(\n",
        "            [layers.Dense(dense_dim, activation=\"relu\"), layers.Dense(embed_dim),]\n",
        "        )\n",
        "        self.layernorm_1 = layers.LayerNormalization()\n",
        "        self.layernorm_2 = layers.LayerNormalization()\n",
        "        self.supports_masking = True\n",
        "\n",
        "    def call(self, inputs, mask=None):\n",
        "        if mask is not None:\n",
        "            padding_mask = tf.cast(mask[:, tf.newaxis, tf.newaxis, :], dtype=\"int32\")\n",
        "        attention_output = self.attention(\n",
        "            query=inputs, value=inputs, key=inputs, attention_mask=padding_mask\n",
        "        )\n",
        "        proj_input = self.layernorm_1(inputs + attention_output)\n",
        "        proj_output = self.dense_proj(proj_input)\n",
        "        return self.layernorm_2(proj_input + proj_output)\n",
        "\n",
        "\n",
        "class PositionalEmbedding(layers.Layer):\n",
        "    def __init__(self, sequence_length, vocab_size, embed_dim, **kwargs):\n",
        "        super().__init__(**kwargs)\n",
        "        self.token_embeddings = layers.Embedding(\n",
        "            input_dim=vocab_size, output_dim=embed_dim\n",
        "        )\n",
        "        self.position_embeddings = layers.Embedding(\n",
        "            input_dim=sequence_length, output_dim=embed_dim\n",
        "        )\n",
        "        self.sequence_length = sequence_length\n",
        "        self.vocab_size = vocab_size\n",
        "        self.embed_dim = embed_dim\n",
        "\n",
        "    def call(self, inputs):\n",
        "        length = tf.shape(inputs)[-1]\n",
        "        positions = tf.range(start=0, limit=length, delta=1)\n",
        "        embedded_tokens = self.token_embeddings(inputs)\n",
        "        embedded_positions = self.position_embeddings(positions)\n",
        "        return embedded_tokens + embedded_positions\n",
        "\n",
        "    def compute_mask(self, inputs, mask=None):\n",
        "        return tf.math.not_equal(inputs, 0)\n",
        "\n",
        "\n",
        "class TransformerDecoder(layers.Layer):\n",
        "    def __init__(self, embed_dim, latent_dim, num_heads, **kwargs):\n",
        "        super().__init__(**kwargs)\n",
        "        self.embed_dim = embed_dim\n",
        "        self.latent_dim = latent_dim\n",
        "        self.num_heads = num_heads\n",
        "        self.attention_1 = layers.MultiHeadAttention(\n",
        "            num_heads=num_heads, key_dim=embed_dim\n",
        "        )\n",
        "        self.attention_2 = layers.MultiHeadAttention(\n",
        "            num_heads=num_heads, key_dim=embed_dim\n",
        "        )\n",
        "        self.dense_proj = keras.Sequential(\n",
        "            [layers.Dense(latent_dim, activation=\"relu\"), layers.Dense(embed_dim),]\n",
        "        )\n",
        "        self.layernorm_1 = layers.LayerNormalization()\n",
        "        self.layernorm_2 = layers.LayerNormalization()\n",
        "        self.layernorm_3 = layers.LayerNormalization()\n",
        "        self.supports_masking = True\n",
        "\n",
        "    def call(self, inputs, encoder_outputs, mask=None):\n",
        "        causal_mask = self.get_causal_attention_mask(inputs)\n",
        "        if mask is not None:\n",
        "            padding_mask = tf.cast(mask[:, tf.newaxis, :], dtype=\"int32\")\n",
        "            padding_mask = tf.minimum(padding_mask, causal_mask)\n",
        "\n",
        "        attention_output_1 = self.attention_1(\n",
        "            query=inputs, value=inputs, key=inputs, attention_mask=causal_mask\n",
        "        )\n",
        "        out_1 = self.layernorm_1(inputs + attention_output_1)\n",
        "\n",
        "        attention_output_2 = self.attention_2(\n",
        "            query=out_1,\n",
        "            value=encoder_outputs,\n",
        "            key=encoder_outputs,\n",
        "            attention_mask=padding_mask,\n",
        "        )\n",
        "        out_2 = self.layernorm_2(out_1 + attention_output_2)\n",
        "\n",
        "        proj_output = self.dense_proj(out_2)\n",
        "        return self.layernorm_3(out_2 + proj_output)\n",
        "\n",
        "    def get_causal_attention_mask(self, inputs):\n",
        "        input_shape = tf.shape(inputs)\n",
        "        batch_size, sequence_length = input_shape[0], input_shape[1]\n",
        "        i = tf.range(sequence_length)[:, tf.newaxis]\n",
        "        j = tf.range(sequence_length)\n",
        "        mask = tf.cast(i >= j, dtype=\"int32\")\n",
        "        mask = tf.reshape(mask, (1, input_shape[1], input_shape[1]))\n",
        "        mult = tf.concat(\n",
        "            [tf.expand_dims(batch_size, -1), tf.constant([1, 1], dtype=tf.int32)],\n",
        "            axis=0,\n",
        "        )\n",
        "        return tf.tile(mask, mult)"
      ],
      "metadata": {
        "id": "hllkd-eITy0Q"
      },
      "execution_count": null,
      "outputs": []
    },
    {
      "cell_type": "code",
      "source": [],
      "metadata": {
        "id": "88ylmkPOTy2C"
      },
      "execution_count": null,
      "outputs": []
    },
    {
      "cell_type": "code",
      "source": [
        "embed_dim = 256\n",
        "latent_dim = 2048\n",
        "num_heads = 8\n",
        "\n",
        "encoder_inputs = keras.Input(shape=(None,), dtype=\"int64\", name=\"encoder_inputs\")\n",
        "x = PositionalEmbedding(sequence_length, vocab_size, embed_dim)(encoder_inputs)\n",
        "encoder_outputs = TransformerEncoder(embed_dim, latent_dim, num_heads)(x)\n",
        "encoder = keras.Model(encoder_inputs, encoder_outputs)\n",
        "\n",
        "decoder_inputs = keras.Input(shape=(None,), dtype=\"int64\", name=\"decoder_inputs\")\n",
        "encoded_seq_inputs = keras.Input(shape=(None, embed_dim), name=\"decoder_state_inputs\")\n",
        "x = PositionalEmbedding(sequence_length, vocab_size, embed_dim)(decoder_inputs)\n",
        "x = TransformerDecoder(embed_dim, latent_dim, num_heads)(x, encoded_seq_inputs)\n",
        "x = layers.Dropout(0.5)(x)\n",
        "decoder_outputs = layers.Dense(vocab_size, activation=\"softmax\")(x)\n",
        "decoder = keras.Model([decoder_inputs, encoded_seq_inputs], decoder_outputs)\n",
        "\n",
        "decoder_outputs = decoder([decoder_inputs, encoder_outputs])\n",
        "transformer = keras.Model(\n",
        "    [encoder_inputs, decoder_inputs], decoder_outputs, name=\"transformer\"\n",
        ")"
      ],
      "metadata": {
        "id": "fkl-1V2LTy4t"
      },
      "execution_count": null,
      "outputs": []
    },
    {
      "cell_type": "code",
      "source": [],
      "metadata": {
        "id": "2GS5Egb0Ty6V"
      },
      "execution_count": null,
      "outputs": []
    },
    {
      "cell_type": "code",
      "source": [
        "epochs = 100  # This should be at least 30 for convergence\n",
        "\n",
        "transformer.summary()\n",
        "transformer.compile(\n",
        "    \"rmsprop\", loss=\"sparse_categorical_crossentropy\", metrics=[\"accuracy\"]\n",
        ")\n",
        "transformer.fit(train_ds, epochs=epochs, validation_data=val_ds)"
      ],
      "metadata": {
        "colab": {
          "base_uri": "https://localhost:8080/"
        },
        "id": "x7Huh3IYTy81",
        "outputId": "e0d46501-b8e1-44ed-aa65-e8a6a9167d4c"
      },
      "execution_count": null,
      "outputs": [
        {
          "output_type": "stream",
          "name": "stdout",
          "text": [
            "Model: \"transformer\"\n",
            "__________________________________________________________________________________________________\n",
            " Layer (type)                   Output Shape         Param #     Connected to                     \n",
            "==================================================================================================\n",
            " encoder_inputs (InputLayer)    [(None, None)]       0           []                               \n",
            "                                                                                                  \n",
            " positional_embedding (Position  (None, None, 256)   3845120     ['encoder_inputs[0][0]']         \n",
            " alEmbedding)                                                                                     \n",
            "                                                                                                  \n",
            " decoder_inputs (InputLayer)    [(None, None)]       0           []                               \n",
            "                                                                                                  \n",
            " transformer_encoder (Transform  (None, None, 256)   3155456     ['positional_embedding[0][0]']   \n",
            " erEncoder)                                                                                       \n",
            "                                                                                                  \n",
            " model_1 (Functional)           (None, None, 15000)  12959640    ['decoder_inputs[0][0]',         \n",
            "                                                                  'transformer_encoder[0][0]']    \n",
            "                                                                                                  \n",
            "==================================================================================================\n",
            "Total params: 19,960,216\n",
            "Trainable params: 19,960,216\n",
            "Non-trainable params: 0\n",
            "__________________________________________________________________________________________________\n",
            "Epoch 1/100\n",
            "18/18 [==============================] - 55s 3s/step - loss: 1.8926 - accuracy: 0.1766 - val_loss: 1.7170 - val_accuracy: 0.1857\n",
            "Epoch 2/100\n",
            "18/18 [==============================] - 54s 3s/step - loss: 1.5912 - accuracy: 0.1864 - val_loss: 1.6957 - val_accuracy: 0.1857\n",
            "Epoch 3/100\n",
            "18/18 [==============================] - 50s 3s/step - loss: 1.5242 - accuracy: 0.1850 - val_loss: 1.6898 - val_accuracy: 0.1857\n",
            "Epoch 4/100\n",
            "18/18 [==============================] - 51s 3s/step - loss: 1.4834 - accuracy: 0.1900 - val_loss: 1.7136 - val_accuracy: 0.1920\n",
            "Epoch 5/100\n",
            "18/18 [==============================] - 50s 3s/step - loss: 1.4432 - accuracy: 0.2003 - val_loss: 1.7074 - val_accuracy: 0.1952\n",
            "Epoch 6/100\n",
            "18/18 [==============================] - 49s 3s/step - loss: 1.3911 - accuracy: 0.2126 - val_loss: 1.6930 - val_accuracy: 0.1865\n",
            "Epoch 7/100\n",
            "18/18 [==============================] - 55s 3s/step - loss: 1.3009 - accuracy: 0.2463 - val_loss: 1.5826 - val_accuracy: 0.2470\n",
            "Epoch 8/100\n",
            "18/18 [==============================] - 50s 3s/step - loss: 1.2316 - accuracy: 0.2808 - val_loss: 1.5542 - val_accuracy: 0.2637\n",
            "Epoch 9/100\n",
            "18/18 [==============================] - 49s 3s/step - loss: 1.1065 - accuracy: 0.3362 - val_loss: 1.6905 - val_accuracy: 0.2574\n",
            "Epoch 10/100\n",
            "18/18 [==============================] - 50s 3s/step - loss: 1.0188 - accuracy: 0.3777 - val_loss: 1.5262 - val_accuracy: 0.2733\n",
            "Epoch 11/100\n",
            "18/18 [==============================] - 50s 3s/step - loss: 0.9380 - accuracy: 0.4036 - val_loss: 1.5377 - val_accuracy: 0.2821\n",
            "Epoch 12/100\n",
            "18/18 [==============================] - 55s 3s/step - loss: 0.8680 - accuracy: 0.4414 - val_loss: 1.5310 - val_accuracy: 0.2797\n",
            "Epoch 13/100\n",
            "18/18 [==============================] - 51s 3s/step - loss: 0.7812 - accuracy: 0.4797 - val_loss: 1.4854 - val_accuracy: 0.2741\n",
            "Epoch 14/100\n",
            "18/18 [==============================] - 50s 3s/step - loss: 0.7232 - accuracy: 0.5234 - val_loss: 1.4924 - val_accuracy: 0.2837\n",
            "Epoch 15/100\n",
            "18/18 [==============================] - 50s 3s/step - loss: 0.6508 - accuracy: 0.5646 - val_loss: 1.6931 - val_accuracy: 0.2462\n",
            "Epoch 16/100\n",
            "18/18 [==============================] - 54s 3s/step - loss: 0.5950 - accuracy: 0.6017 - val_loss: 1.5209 - val_accuracy: 0.2733\n",
            "Epoch 17/100\n",
            "18/18 [==============================] - 50s 3s/step - loss: 0.5360 - accuracy: 0.6413 - val_loss: 1.5821 - val_accuracy: 0.2733\n",
            "Epoch 18/100\n",
            "18/18 [==============================] - 51s 3s/step - loss: 0.4732 - accuracy: 0.6871 - val_loss: 1.5196 - val_accuracy: 0.2733\n",
            "Epoch 19/100\n",
            "18/18 [==============================] - 49s 3s/step - loss: 0.4196 - accuracy: 0.7333 - val_loss: 1.6695 - val_accuracy: 0.2582\n",
            "Epoch 20/100\n",
            "18/18 [==============================] - 50s 3s/step - loss: 0.3728 - accuracy: 0.7625 - val_loss: 1.5803 - val_accuracy: 0.2645\n",
            "Epoch 21/100\n",
            "18/18 [==============================] - 54s 3s/step - loss: 0.3277 - accuracy: 0.8056 - val_loss: 1.6760 - val_accuracy: 0.2701\n",
            "Epoch 22/100\n",
            "18/18 [==============================] - 50s 3s/step - loss: 0.2812 - accuracy: 0.8392 - val_loss: 1.6069 - val_accuracy: 0.2614\n",
            "Epoch 23/100\n",
            "18/18 [==============================] - 50s 3s/step - loss: 0.2521 - accuracy: 0.8608 - val_loss: 1.6939 - val_accuracy: 0.2725\n",
            "Epoch 24/100\n",
            "18/18 [==============================] - 51s 3s/step - loss: 0.2167 - accuracy: 0.8838 - val_loss: 1.6418 - val_accuracy: 0.2645\n",
            "Epoch 25/100\n",
            "18/18 [==============================] - 50s 3s/step - loss: 0.1906 - accuracy: 0.8993 - val_loss: 1.6514 - val_accuracy: 0.2677\n",
            "Epoch 26/100\n",
            "18/18 [==============================] - 54s 3s/step - loss: 0.1630 - accuracy: 0.9092 - val_loss: 1.8505 - val_accuracy: 0.2637\n",
            "Epoch 27/100\n",
            "18/18 [==============================] - 51s 3s/step - loss: 0.1450 - accuracy: 0.9173 - val_loss: 1.6832 - val_accuracy: 0.2749\n",
            "Epoch 28/100\n",
            "18/18 [==============================] - 51s 3s/step - loss: 0.1249 - accuracy: 0.9310 - val_loss: 1.7651 - val_accuracy: 0.2717\n",
            "Epoch 29/100\n",
            "18/18 [==============================] - 51s 3s/step - loss: 0.1124 - accuracy: 0.9362 - val_loss: 1.6696 - val_accuracy: 0.2693\n",
            "Epoch 30/100\n",
            "18/18 [==============================] - 55s 3s/step - loss: 0.0974 - accuracy: 0.9463 - val_loss: 1.7424 - val_accuracy: 0.2614\n",
            "Epoch 31/100\n",
            "18/18 [==============================] - 51s 3s/step - loss: 0.0878 - accuracy: 0.9485 - val_loss: 1.7651 - val_accuracy: 0.2749\n",
            "Epoch 32/100\n",
            "18/18 [==============================] - 51s 3s/step - loss: 0.0843 - accuracy: 0.9475 - val_loss: 1.9263 - val_accuracy: 0.2629\n",
            "Epoch 33/100\n",
            "18/18 [==============================] - 50s 3s/step - loss: 0.0692 - accuracy: 0.9559 - val_loss: 1.7697 - val_accuracy: 0.2725\n",
            "Epoch 34/100\n",
            "18/18 [==============================] - 52s 3s/step - loss: 0.0644 - accuracy: 0.9593 - val_loss: 1.7822 - val_accuracy: 0.2741\n",
            "Epoch 35/100\n",
            "18/18 [==============================] - 51s 3s/step - loss: 0.0646 - accuracy: 0.9595 - val_loss: 1.7727 - val_accuracy: 0.2614\n",
            "Epoch 36/100\n",
            "18/18 [==============================] - 50s 3s/step - loss: 0.0478 - accuracy: 0.9700 - val_loss: 1.8652 - val_accuracy: 0.2653\n",
            "Epoch 37/100\n",
            "18/18 [==============================] - 50s 3s/step - loss: 0.0527 - accuracy: 0.9631 - val_loss: 1.8273 - val_accuracy: 0.2653\n",
            "Epoch 38/100\n",
            "18/18 [==============================] - 50s 3s/step - loss: 0.0462 - accuracy: 0.9703 - val_loss: 1.8233 - val_accuracy: 0.2661\n",
            "Epoch 39/100\n",
            "18/18 [==============================] - 54s 3s/step - loss: 0.0394 - accuracy: 0.9772 - val_loss: 1.8654 - val_accuracy: 0.2542\n",
            "Epoch 40/100\n",
            "18/18 [==============================] - 53s 3s/step - loss: 0.0375 - accuracy: 0.9765 - val_loss: 1.8152 - val_accuracy: 0.2789\n",
            "Epoch 41/100\n",
            "18/18 [==============================] - 51s 3s/step - loss: 0.0302 - accuracy: 0.9825 - val_loss: 1.8717 - val_accuracy: 0.2717\n",
            "Epoch 42/100\n",
            "18/18 [==============================] - 51s 3s/step - loss: 0.0400 - accuracy: 0.9746 - val_loss: 2.2392 - val_accuracy: 0.2462\n",
            "Epoch 43/100\n",
            "18/18 [==============================] - 52s 3s/step - loss: 0.0450 - accuracy: 0.9720 - val_loss: 1.8765 - val_accuracy: 0.2821\n",
            "Epoch 44/100\n",
            "18/18 [==============================] - 51s 3s/step - loss: 0.0228 - accuracy: 0.9873 - val_loss: 1.8816 - val_accuracy: 0.2741\n",
            "Epoch 45/100\n",
            "18/18 [==============================] - 51s 3s/step - loss: 0.0355 - accuracy: 0.9780 - val_loss: 1.8335 - val_accuracy: 0.2765\n",
            "Epoch 46/100\n",
            "18/18 [==============================] - 51s 3s/step - loss: 0.0177 - accuracy: 0.9900 - val_loss: 1.8791 - val_accuracy: 0.2629\n",
            "Epoch 47/100\n",
            "18/18 [==============================] - 54s 3s/step - loss: 0.0233 - accuracy: 0.9854 - val_loss: 1.9007 - val_accuracy: 0.2693\n",
            "Epoch 48/100\n",
            "18/18 [==============================] - 52s 3s/step - loss: 0.0222 - accuracy: 0.9863 - val_loss: 1.9444 - val_accuracy: 0.2542\n",
            "Epoch 49/100\n",
            "18/18 [==============================] - 52s 3s/step - loss: 0.0383 - accuracy: 0.9720 - val_loss: 1.8912 - val_accuracy: 0.2709\n",
            "Epoch 50/100\n",
            "18/18 [==============================] - 51s 3s/step - loss: 0.0151 - accuracy: 0.9914 - val_loss: 1.9168 - val_accuracy: 0.2717\n",
            "Epoch 51/100\n",
            "18/18 [==============================] - 55s 3s/step - loss: 0.0205 - accuracy: 0.9866 - val_loss: 1.9031 - val_accuracy: 0.2701\n",
            "Epoch 52/100\n",
            "18/18 [==============================] - 52s 3s/step - loss: 0.0249 - accuracy: 0.9815 - val_loss: 1.9434 - val_accuracy: 0.2781\n",
            "Epoch 53/100\n",
            "18/18 [==============================] - 53s 3s/step - loss: 0.0244 - accuracy: 0.9840 - val_loss: 1.9255 - val_accuracy: 0.2709\n",
            "Epoch 54/100\n",
            "18/18 [==============================] - 54s 3s/step - loss: 0.0202 - accuracy: 0.9873 - val_loss: 1.9137 - val_accuracy: 0.2749\n",
            "Epoch 55/100\n",
            "18/18 [==============================] - 53s 3s/step - loss: 0.0114 - accuracy: 0.9938 - val_loss: 1.9790 - val_accuracy: 0.2717\n",
            "Epoch 56/100\n",
            "18/18 [==============================] - 53s 3s/step - loss: 0.0108 - accuracy: 0.9923 - val_loss: 1.9236 - val_accuracy: 0.2773\n",
            "Epoch 57/100\n",
            "18/18 [==============================] - 51s 3s/step - loss: 0.0208 - accuracy: 0.9861 - val_loss: 2.0403 - val_accuracy: 0.2693\n",
            "Epoch 58/100\n",
            "18/18 [==============================] - 51s 3s/step - loss: 0.0186 - accuracy: 0.9892 - val_loss: 1.9564 - val_accuracy: 0.2765\n",
            "Epoch 59/100\n",
            "18/18 [==============================] - 51s 3s/step - loss: 0.0148 - accuracy: 0.9916 - val_loss: 1.8927 - val_accuracy: 0.2709\n",
            "Epoch 60/100\n",
            "18/18 [==============================] - 54s 3s/step - loss: 0.0248 - accuracy: 0.9837 - val_loss: 1.9809 - val_accuracy: 0.2709\n",
            "Epoch 61/100\n",
            "18/18 [==============================] - 51s 3s/step - loss: 0.0151 - accuracy: 0.9897 - val_loss: 2.0335 - val_accuracy: 0.2614\n",
            "Epoch 62/100\n",
            "18/18 [==============================] - 51s 3s/step - loss: 0.0362 - accuracy: 0.9761 - val_loss: 1.9467 - val_accuracy: 0.2693\n",
            "Epoch 63/100\n",
            "18/18 [==============================] - 50s 3s/step - loss: 0.0135 - accuracy: 0.9914 - val_loss: 1.9508 - val_accuracy: 0.2669\n",
            "Epoch 64/100\n",
            "18/18 [==============================] - 50s 3s/step - loss: 0.0198 - accuracy: 0.9858 - val_loss: 1.8806 - val_accuracy: 0.2606\n",
            "Epoch 65/100\n",
            "18/18 [==============================] - 54s 3s/step - loss: 0.0119 - accuracy: 0.9924 - val_loss: 1.9306 - val_accuracy: 0.2749\n",
            "Epoch 66/100\n",
            "18/18 [==============================] - 51s 3s/step - loss: 0.0257 - accuracy: 0.9794 - val_loss: 1.9453 - val_accuracy: 0.2709\n",
            "Epoch 67/100\n",
            "18/18 [==============================] - 51s 3s/step - loss: 0.0159 - accuracy: 0.9870 - val_loss: 1.9630 - val_accuracy: 0.2709\n",
            "Epoch 68/100\n",
            "18/18 [==============================] - 51s 3s/step - loss: 0.0148 - accuracy: 0.9897 - val_loss: 1.9944 - val_accuracy: 0.2693\n",
            "Epoch 69/100\n",
            "18/18 [==============================] - 51s 3s/step - loss: 0.0153 - accuracy: 0.9897 - val_loss: 1.9615 - val_accuracy: 0.2661\n",
            "Epoch 70/100\n",
            "18/18 [==============================] - 54s 3s/step - loss: 0.0132 - accuracy: 0.9907 - val_loss: 2.0433 - val_accuracy: 0.2789\n",
            "Epoch 71/100\n",
            "18/18 [==============================] - 51s 3s/step - loss: 0.0171 - accuracy: 0.9883 - val_loss: 2.0768 - val_accuracy: 0.2685\n",
            "Epoch 72/100\n",
            "18/18 [==============================] - 51s 3s/step - loss: 0.0137 - accuracy: 0.9883 - val_loss: 1.9095 - val_accuracy: 0.2677\n",
            "Epoch 73/100\n",
            "14/18 [======================>.......] - ETA: 10s - loss: 0.0140 - accuracy: 0.9919"
          ]
        }
      ]
    },
    {
      "cell_type": "code",
      "source": [],
      "metadata": {
        "id": "LyKbeXNQTy_n"
      },
      "execution_count": null,
      "outputs": []
    },
    {
      "cell_type": "code",
      "source": [],
      "metadata": {
        "id": "jqMRefe_TzCC"
      },
      "execution_count": null,
      "outputs": []
    },
    {
      "cell_type": "code",
      "source": [
        "spa_vocab = spa_vectorization.get_vocabulary()\n",
        "spa_index_lookup = dict(zip(range(len(spa_vocab)), spa_vocab))\n",
        "max_decoded_sentence_length = 20\n",
        "\n",
        "\n",
        "def decode_sequence(input_sentence):\n",
        "    tokenized_input_sentence = eng_vectorization([input_sentence])\n",
        "    decoded_sentence = \"[start]\"\n",
        "    for i in range(max_decoded_sentence_length):\n",
        "        tokenized_target_sentence = spa_vectorization([decoded_sentence])[:, :-1]\n",
        "        predictions = transformer([tokenized_input_sentence, tokenized_target_sentence])\n",
        "\n",
        "        sampled_token_index = np.argmax(predictions[0, i, :])\n",
        "        sampled_token = spa_index_lookup[sampled_token_index]\n",
        "        decoded_sentence += \" \" + sampled_token\n",
        "\n",
        "        if sampled_token == \"[end]\":\n",
        "            break\n",
        "    return decoded_sentence\n",
        "\n",
        "\n",
        "test_eng_texts = [pair[0] for pair in test_pairs]\n",
        "for _ in range(30):\n",
        "    input_sentence = random.choice(test_eng_texts)\n",
        "    translated = decode_sequence(input_sentence)\n",
        "    print(input_sentence, translated)"
      ],
      "metadata": {
        "id": "bSF5B-fETzEh"
      },
      "execution_count": null,
      "outputs": []
    },
    {
      "cell_type": "code",
      "source": [
        "translated"
      ],
      "metadata": {
        "id": "owh4v3kCUkfn"
      },
      "execution_count": null,
      "outputs": []
    },
    {
      "cell_type": "code",
      "source": [
        "input_sentence"
      ],
      "metadata": {
        "id": "tUdAsIoaTzHS"
      },
      "execution_count": null,
      "outputs": []
    },
    {
      "cell_type": "code",
      "source": [],
      "metadata": {
        "id": "eH50Q__AWNvr"
      },
      "execution_count": null,
      "outputs": []
    },
    {
      "cell_type": "code",
      "source": [],
      "metadata": {
        "id": "agrQso4aWNyQ"
      },
      "execution_count": null,
      "outputs": []
    },
    {
      "cell_type": "code",
      "source": [],
      "metadata": {
        "id": "iyH6-j77WN1K"
      },
      "execution_count": null,
      "outputs": []
    },
    {
      "cell_type": "code",
      "source": [],
      "metadata": {
        "id": "bssCjq6BWN3z"
      },
      "execution_count": null,
      "outputs": []
    },
    {
      "cell_type": "code",
      "source": [
        "num_examples = 30000\n",
        "input_tensor, target_tensor, inp_lang, targ_lang, max_length_inp, max_length_targ = load_dataset(path_to_file, num_examples)"
      ],
      "metadata": {
        "id": "lnO0_lqUSOlK"
      },
      "execution_count": null,
      "outputs": []
    },
    {
      "cell_type": "code",
      "source": [],
      "metadata": {
        "id": "qhvz7vedSOns"
      },
      "execution_count": null,
      "outputs": []
    },
    {
      "cell_type": "code",
      "source": [
        "input_tensor_train, input_tensor_val, target_tensor_train, target_tensor_val = train_test_split(input_tensor, target_tensor, test_size=0.2)"
      ],
      "metadata": {
        "id": "S1emmC75SOqO"
      },
      "execution_count": null,
      "outputs": []
    },
    {
      "cell_type": "code",
      "source": [
        "BUFFER_SIZE = len(input_tensor_train)\n",
        "BATCH_SIZE = 64\n",
        "N_BATCH = BUFFER_SIZE//BATCH_SIZE\n",
        "embedding_dim = 256\n",
        "units = 1024\n",
        "vocab_inp_size = len(inp_lang.word2idx)\n",
        "vocab_tar_size = len(targ_lang.word2idx)\n",
        "dataset = tf.data.Dataset.from_tensor_slices((input_tensor_train, target_tensor_train)).shuffle(BUFFER_SIZE)\n",
        "dataset = dataset.batch(BATCH_SIZE, drop_remainder=True)"
      ],
      "metadata": {
        "id": "RXE6vY62SOsz"
      },
      "execution_count": null,
      "outputs": []
    },
    {
      "cell_type": "code",
      "source": [
        "def gru(units):\n",
        " # If you have a GPU, we recommend using CuDNNGRU(provides a 3x speedup than GRU)\n",
        " # the code automatically does that.\n",
        " if tf.test.is_gpu_available():\n",
        "   return tf.keras.layers.CuDNNGRU(units,\n",
        "   return_sequences=True,\n",
        "   return_state=True,\n",
        "   recurrent_initializer=’glorot_uniform’)\n",
        " else:\n",
        "   return tf.keras.layers.GRU(units,\n",
        "   return_sequences=True,\n",
        "   return_state=True,\n",
        "   recurrent_activation=’sigmoid’,\n",
        "   recurrent_initializer=’glorot_uniform’)\n",
        "class Encoder(tf.keras.Model):\n",
        " def __init__(self, vocab_size, embedding_dim, enc_units, batch_sz):\n",
        "   super(Encoder, self).__init__()\n",
        "   self.batch_sz = batch_sz\n",
        "   self.enc_units = enc_units\n",
        "   self.embedding = tf.keras.layers.Embedding(vocab_size,   embedding_dim)\n",
        "   self.gru = gru(self.enc_units)\n",
        " \n",
        " def call(self, x, hidden):\n",
        "   x = self.embedding(x)\n",
        "   output, state = self.gru(x, initial_state = hidden) \n",
        "   return output, state\n",
        " \n",
        " def initialize_hidden_state(self):\n",
        "   return tf.zeros((self.batch_sz, self.enc_units))\n",
        "class Decoder(tf.keras.Model):\n",
        "    def __init__(self, vocab_size, embedding_dim, dec_units, batch_sz):\n",
        "        super(Decoder, self).__init__()\n",
        "        self.batch_sz = batch_sz\n",
        "        self.dec_units = dec_units\n",
        "        self.embedding = tf.keras.layers.Embedding(vocab_size, embedding_dim)\n",
        "        self.gru = gru(self.dec_units)\n",
        "        self.fc = tf.keras.layers.Dense(vocab_size)\n",
        "       \n",
        "        # used for attention\n",
        "        self.W1 = tf.keras.layers.Dense(self.dec_units)\n",
        "        self.W2 = tf.keras.layers.Dense(self.dec_units)\n",
        "        self.V = tf.keras.layers.Dense(1)\n",
        "       \n",
        "    def call(self, x, hidden, enc_output):\n",
        "        # enc_output shape == (batch_size, max_length, hidden_size)\n",
        "       \n",
        "        # hidden shape == (batch_size, hidden size)\n",
        "     # hidden_with_time_axis shape == (batch_size, 1, hidden size)\n",
        "     # we are doing this to perform addition to calculate the score\n",
        "        hidden_with_time_axis = tf.expand_dims(hidden, 1)\n",
        "       \n",
        "        # score shape == (batch_size, max_length, 1)\n",
        "        # we get 1 at the last axis because we are applying tanh(FC(EO) + FC(H)) to self.V\n",
        "        score = self.V(tf.nn.tanh(self.W1(enc_output) + self.W2(hidden_with_time_axis)))\n",
        "       \n",
        "        # attention_weights shape == (batch_size, max_length, 1)\n",
        "        attention_weights = tf.nn.softmax(score, axis=1)\n",
        "       \n",
        "        # context_vector shape after sum == (batch_size, hidden_size)\n",
        "        context_vector = attention_weights * enc_output\n",
        "        context_vector = tf.reduce_sum(context_vector, axis=1)\n",
        "       \n",
        "        # x shape after passing through embedding == (batch_size, 1, embedding_dim)\n",
        "        x = self.embedding(x)\n",
        "       \n",
        "        # x shape after concatenation == (batch_size, 1, embedding_dim + hidden_size)\n",
        "        x = tf.concat([tf.expand_dims(context_vector, 1), x], axis=-1)\n",
        "       \n",
        "        # passing the concatenated vector to the GRU\n",
        "        output, state = self.gru(x)\n",
        "       \n",
        "        # output shape == (batch_size * 1, hidden_size)\n",
        "        output = tf.reshape(output, (-1, output.shape[2]))\n",
        "       \n",
        "        # output shape == (batch_size * 1, vocab)\n",
        "        x = self.fc(output)\n",
        "       \n",
        "        return x, state, attention_weights\n",
        "       \n",
        "    def initialize_hidden_state(self):\n",
        "        return tf.zeros((self.batch_sz, self.dec_units))\n",
        "encoder = Encoder(vocab_inp_size, embedding_dim, units, BATCH_SIZE)\n",
        "decoder = Decoder(vocab_tar_size, embedding_dim, units, BATCH_SIZE)\n"
      ],
      "metadata": {
        "id": "Jp93ONVsSOvU"
      },
      "execution_count": null,
      "outputs": []
    },
    {
      "cell_type": "code",
      "source": [
        "optimizer = tf.train.AdamOptimizer()\n",
        "def loss_function(real, pred):\n",
        " mask = 1 — np.equal(real, 0)\n",
        " loss_ = tf.nn.sparse_softmax_cross_entropy_with_logits(labels=real, logits=pred) * mask\n",
        " return tf.reduce_mean(loss_)\n",
        "checkpoint_dir = ‘./training_checkpoints’\n",
        "checkpoint_prefix = os.path.join(checkpoint_dir, “ckpt”)\n",
        "checkpoint = tf.train.Checkpoint(optimizer=optimizer,\n",
        " encoder=encoder,\n",
        " decoder=decoder)"
      ],
      "metadata": {
        "id": "GsT8AzctSOyJ"
      },
      "execution_count": null,
      "outputs": []
    },
    {
      "cell_type": "code",
      "source": [],
      "metadata": {
        "id": "HgvBXcbcSdUn"
      },
      "execution_count": null,
      "outputs": []
    },
    {
      "cell_type": "code",
      "source": [
        "EPOCHS = 10\n",
        "for epoch in range(EPOCHS):\n",
        " start = time.time()\n",
        " \n",
        " hidden = encoder.initialize_hidden_state()\n",
        " total_loss = 0\n",
        " \n",
        " for (batch, (inp, targ)) in enumerate(dataset):\n",
        "   loss = 0\n",
        " \n",
        "   with tf.GradientTape() as tape:\n",
        "     enc_output, enc_hidden = encoder(inp, hidden)\n",
        " \n",
        "     dec_hidden = enc_hidden\n",
        " \n",
        "     dec_input = tf.expand_dims([targ_lang.word2idx[‘<start>’]] *  BATCH_SIZE, 1) \n",
        " \n",
        "     # Teacher forcing — feeding the target as the next input\n",
        "     for t in range(1, targ.shape[1]):\n",
        "       # passing enc_output to the decoder\n",
        "       predictions, dec_hidden, _ = decoder(dec_input, dec_hidden, enc_output)\n",
        " \n",
        "       loss += loss_function(targ[:, t], predictions)\n",
        " \n",
        "       # using teacher forcing\n",
        "       dec_input = tf.expand_dims(targ[:, t], 1)\n",
        " \n",
        "   batch_loss = (loss / int(targ.shape[1]))\n",
        " \n",
        "   total_loss += batch_loss\n",
        " \n",
        "   variables = encoder.variables + decoder.variables\n",
        " \n",
        "   gradients = tape.gradient(loss, variables)\n",
        " \n",
        "   optimizer.apply_gradients(zip(gradients, variables))\n",
        " \n",
        "   if batch % 100 == 0:\n",
        "     print(‘Epoch {} Batch {} Loss {:.4f}’.format(epoch + 1,\n",
        "     batch,\n",
        "     batch_loss.numpy()))\n",
        " # saving (checkpoint) the model every 2 epochs\n",
        " if (epoch + 1) % 2 == 0:\n",
        "   checkpoint.save(file_prefix = checkpoint_prefix)\n",
        " \n",
        " print(‘Epoch {} Loss {:.4f}’.format(epoch + 1,\n",
        "   total_loss / N_BATCH))\n",
        " print(‘Time taken for 1 epoch {} sec\\n’.format(time.time() —   start))"
      ],
      "metadata": {
        "id": "VFlliLvjSdY4"
      },
      "execution_count": null,
      "outputs": []
    },
    {
      "cell_type": "code",
      "source": [],
      "metadata": {
        "id": "zUzXlA1eSkhD"
      },
      "execution_count": null,
      "outputs": []
    },
    {
      "cell_type": "code",
      "source": [
        "def evaluate(sentence, encoder, decoder, inp_lang, targ_lang, max_length_inp, max_length_targ):\n",
        " attention_plot = np.zeros((max_length_targ, max_length_inp))\n",
        " \n",
        " sentence = preprocess_sentence(sentence)\n",
        "inputs = [inp_lang.word2idx[i] for i in sentence.split(‘ ‘)]\n",
        " inputs = tf.keras.preprocessing.sequence.pad_sequences([inputs],   maxlen=max_length_inp, padding=’post’)\n",
        " inputs = tf.convert_to_tensor(inputs)\n",
        " \n",
        " result = ‘’\n",
        "hidden = [tf.zeros((1, units))]\n",
        " enc_out, enc_hidden = encoder(inputs, hidden)\n",
        "dec_hidden = enc_hidden\n",
        " dec_input = tf.expand_dims([targ_lang.word2idx[‘<start>’]], 0)\n",
        "for t in range(max_length_targ):\n",
        "   predictions, dec_hidden, attention_weights = decoder(dec_input, dec_hidden, enc_out)\n",
        " \n",
        " # storing the attention weights to plot later on\n",
        "   attention_weights = tf.reshape(attention_weights, (-1, ))\n",
        "   attention_plot[t] = attention_weights.numpy()\n",
        "predicted_id = tf.argmax(predictions[0]).numpy()\n",
        "result += targ_lang.idx2word[predicted_id] + ‘ ‘\n",
        "if targ_lang.idx2word[predicted_id] == ‘<end>’:\n",
        "     return result, sentence, attention_plot\n",
        " \n",
        " # the predicted ID is fed back into the model\n",
        "   dec_input = tf.expand_dims([predicted_id], 0)\n",
        "return result, sentence, attention_plot"
      ],
      "metadata": {
        "id": "bfmef_PeSkjq"
      },
      "execution_count": null,
      "outputs": []
    },
    {
      "cell_type": "code",
      "source": [],
      "metadata": {
        "id": "hhQnFseMSkmr"
      },
      "execution_count": null,
      "outputs": []
    },
    {
      "cell_type": "code",
      "source": [
        "# function for plotting the attention weights\n",
        "def plot_attention(attention, sentence, predicted_sentence):\n",
        " fig = plt.figure(figsize=(10,10))\n",
        " ax = fig.add_subplot(1, 1, 1)\n",
        " ax.matshow(attention, cmap=’viridis’)\n",
        " \n",
        " fontdict = {‘fontsize’: 14}\n",
        " \n",
        " ax.set_xticklabels([‘’] + sentence, fontdict=fontdict, rotation=90)\n",
        " ax.set_yticklabels([‘’] + predicted_sentence, fontdict=fontdict)\n",
        "plt.show()\n",
        "def translate(sentence, encoder, decoder, inp_lang, targ_lang, max_length_inp, max_length_targ):\n",
        " result, sentence, attention_plot = evaluate(sentence, encoder, decoder, inp_lang, targ_lang, max_length_inp, max_length_targ)\n",
        " \n",
        " print(‘Input: {}’.format(sentence))\n",
        " print(‘Predicted translation: {}’.format(result))\n",
        " \n",
        " attention_plot = attention_plot[:len(result.split(‘ ‘)), :len(sentence.split(‘ ‘))]\n",
        " plot_attention(attention_plot, sentence.split(‘ ‘), result.split(‘ ‘))"
      ],
      "metadata": {
        "id": "AaPMRVzHSkpF"
      },
      "execution_count": null,
      "outputs": []
    },
    {
      "cell_type": "code",
      "source": [],
      "metadata": {
        "id": "VguuPkqDSkr_"
      },
      "execution_count": null,
      "outputs": []
    },
    {
      "cell_type": "code",
      "source": [
        "# restoring the latest checkpoint in checkpoint_dir\n",
        "checkpoint.restore(tf.train.latest_checkpoint(checkpoint_dir))"
      ],
      "metadata": {
        "id": "u3QWsUcBSkut"
      },
      "execution_count": null,
      "outputs": []
    },
    {
      "cell_type": "code",
      "source": [],
      "metadata": {
        "id": "bZgMre4NSdeM"
      },
      "execution_count": null,
      "outputs": []
    }
  ]
}